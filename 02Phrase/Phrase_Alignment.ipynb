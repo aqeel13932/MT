{
 "cells": [
  {
   "cell_type": "markdown",
   "metadata": {},
   "source": [
    "# Naive Approche with preprocessing for optimization."
   ]
  },
  {
   "cell_type": "code",
   "execution_count": 1,
   "metadata": {
    "collapsed": true
   },
   "outputs": [],
   "source": [
    "import numpy as np\n",
    "import itertools\n",
    "import matplotlib.pyplot as plt\n",
    "%matplotlib inline\n",
    "MAX_LENGTH=5"
   ]
  },
  {
   "cell_type": "markdown",
   "metadata": {},
   "source": [
    "### Some form of optimization (Preprocessing, creating dictionary to fasten source to destination and destination to source check)"
   ]
  },
  {
   "cell_type": "code",
   "execution_count": 2,
   "metadata": {
    "collapsed": true
   },
   "outputs": [],
   "source": [
    "def AlignemtnToDictionary(alignmnt):\n",
    "    \"\"\"Convert alignment of form ['0-0','0-1'] to two dictionaries from source to destination and vice versa.\n",
    "    Args:\n",
    "        * alignmnt: list of strings contain the alignments. ['0-0','0-1','1-1'] etc..\n",
    "    Return:\n",
    "        * srcdic: source dictionary {0:[0,1],1:[1]}\n",
    "        * destdic: destination dictioanry {0:[0],1:[0,1]}\"\"\"\n",
    "    ls = map(lambda x:x.split('-'),alignmnt)\n",
    "    ls = map(lambda x:(int(x[0]),int(x[1])),ls)\n",
    "    srcdic ={}\n",
    "    destdic ={}\n",
    "    for element in ls:\n",
    "        if element[0] not in srcdic:\n",
    "            srcdic[element[0]]=[]\n",
    "        srcdic[element[0]].append(element[1])\n",
    "        if element[1] not in destdic:\n",
    "            destdic[element[1]]=[]\n",
    "        destdic[element[1]].append(element[0])\n",
    "    return srcdic,destdic\n",
    "\n",
    "\n",
    "def CheckListInList(lst,cond):   \n",
    "    for c in cond:\n",
    "        if c not in lst:\n",
    "            return False\n",
    "    return True\n",
    "\n",
    "#Check if all source allignments in destination and all distination allignments in source\n",
    "def IsOk(src,dst,alignment):\n",
    "    for j in src: \n",
    "        try:\n",
    "            condition = alignment[0][j]\n",
    "            if CheckListInList(dst,condition):\n",
    "                continue\n",
    "            else:\n",
    "                return False\n",
    "        #This happen when Source is not allignemt with any thing\n",
    "        except KeyError:\n",
    "            continue\n",
    "    for j in dst:\n",
    "        try:\n",
    "            condition = alignment[1][j]\n",
    "            if CheckListInList(src,condition):\n",
    "                continue\n",
    "            else:\n",
    "                return False\n",
    "        #This happen When Destination is not alligned with anything.\n",
    "        except KeyError:\n",
    "            continue\n",
    "    return True"
   ]
  },
  {
   "cell_type": "code",
   "execution_count": 3,
   "metadata": {
    "collapsed": true
   },
   "outputs": [],
   "source": [
    "with open('eu.en') as s:\n",
    "    source = map(lambda x: x.strip().split(),s.readlines())\n",
    "with open('eu.et') as d:\n",
    "    dest = map(lambda x: x.strip().split(),d.readlines())\n",
    "with open('alignment.idxs') as al:\n",
    "    alignements = map(lambda x:AlignemtnToDictionary(x.strip().split()),al.readlines())"
   ]
  },
  {
   "cell_type": "markdown",
   "metadata": {
    "collapsed": true
   },
   "source": [
    "with open('00src') as s:\n",
    "    source = map(lambda x: x.strip().split(),s.readlines())\n",
    "with open('01dest') as d:\n",
    "    dest = map(lambda x: x.strip().split(),d.readlines())\n",
    "with open('02al') as al:\n",
    "    alignements = map(lambda x:AlignemtnToDictionary(x.strip().split()),al.readlines())"
   ]
  },
  {
   "cell_type": "code",
   "execution_count": 4,
   "metadata": {
    "collapsed": true
   },
   "outputs": [],
   "source": [
    "srcCounter={}\n",
    "destCounter={}\n",
    "srcdesLink={}\n",
    "def AddSrc(st):\n",
    "    global srcCounter\n",
    "    st = tuple(st)\n",
    "    if st in srcCounter:\n",
    "        srcCounter[st]+=1\n",
    "    else:\n",
    "        srcCounter[st]=1\n",
    "        \n",
    "def AddDest(st):\n",
    "    global destCounter\n",
    "    st = tuple(st)\n",
    "    if st in destCounter:\n",
    "        destCounter[st]+=1\n",
    "    else:\n",
    "        destCounter[st]=1\n",
    "        \n",
    "def AddLink(sst,dst):\n",
    "    global srcdesLink\n",
    "    sst = tuple(sst)\n",
    "    dst = tuple(dst)\n",
    "    if (sst,dst) in srcdesLink:\n",
    "        srcdesLink[(sst,dst)]+=1\n",
    "    else:\n",
    "        srcdesLink[(sst,dst)]=1"
   ]
  },
  {
   "cell_type": "code",
   "execution_count": 5,
   "metadata": {
    "collapsed": false,
    "scrolled": true
   },
   "outputs": [
    {
     "name": "stdout",
     "output_type": "stream",
     "text": [
      "0\n",
      "1000\n",
      "2000\n",
      "3000\n",
      "4000\n",
      "5000\n",
      "6000\n",
      "7000\n",
      "8000\n",
      "9000\n",
      "10000\n",
      "11000\n",
      "12000\n",
      "13000\n",
      "14000\n",
      "15000\n",
      "16000\n",
      "17000\n",
      "18000\n",
      "19000\n",
      "20000\n",
      "21000\n",
      "22000\n",
      "23000\n",
      "24000\n",
      "25000\n",
      "26000\n",
      "27000\n",
      "28000\n",
      "29000\n",
      "30000\n",
      "31000\n",
      "32000\n",
      "33000\n",
      "34000\n",
      "35000\n",
      "36000\n",
      "37000\n",
      "38000\n",
      "39000\n",
      "40000\n",
      "41000\n",
      "42000\n",
      "43000\n",
      "44000\n",
      "45000\n",
      "46000\n",
      "47000\n",
      "48000\n",
      "49000\n",
      "50000\n",
      "51000\n",
      "52000\n",
      "53000\n",
      "54000\n",
      "55000\n",
      "56000\n",
      "57000\n",
      "58000\n",
      "59000\n",
      "60000\n",
      "61000\n",
      "62000\n",
      "63000\n",
      "64000\n",
      "65000\n"
     ]
    }
   ],
   "source": [
    "#Loop over all sentences\n",
    "for sindx in range(len(source)):\n",
    "    if sindx%1000==0:\n",
    "        print sindx\n",
    "    s= source[sindx]\n",
    "    d= dest[sindx]\n",
    "    al = alignements[sindx]\n",
    "    #THe maximum window size for this sentence\n",
    "    smws = min(MAX_LENGTH,len(s)+1)\n",
    "    dmws = min(MAX_LENGTH,len(d)+1)\n",
    "    #Loop over all window sizes for source sentence\n",
    "    #sws for source window size\n",
    "    for sws in range (1,smws):\n",
    "        #ss : for source start position\n",
    "        for ss in range(len(s)-sws+1):\n",
    "            #dws : for destination window size\n",
    "            for dws in range(1,dmws):\n",
    "                #if (sws==1) and (dws==1):\n",
    "                #    print 'Add Directly then continue'\n",
    "                #ds : for destination window\n",
    "                for ds in range(len(d)-dws+1):\n",
    "                    \n",
    "                    if IsOk(range(ss,ss+sws),range(ds,ds+dws),al):\n",
    "                        AddSrc(s[ss:ss+sws])\n",
    "                        AddDest(d[ds:ds+dws])\n",
    "                        AddLink(s[ss:ss+sws],d[ds:ds+dws])\n",
    "        "
   ]
  },
  {
   "cell_type": "code",
   "execution_count": 6,
   "metadata": {
    "collapsed": false
   },
   "outputs": [],
   "source": [
    "with open('output.txt','w') as f:\n",
    "    for i in srcdesLink:\n",
    "        f.write('{}\\t{}\\t{}\\t{}\\n'.format(' '.join(i[0]),' '.join(i[1]),(srcdesLink[i]*1.0/srcCounter[i[0]]),(srcdesLink[i]*1.0/destCounter[i[1]])))"
   ]
  },
  {
   "cell_type": "code",
   "execution_count": null,
   "metadata": {
    "collapsed": true
   },
   "outputs": [],
   "source": []
  }
 ],
 "metadata": {
  "kernelspec": {
   "display_name": "Python [fullfeatured]",
   "language": "python",
   "name": "Python [fullfeatured]"
  },
  "language_info": {
   "codemirror_mode": {
    "name": "ipython",
    "version": 2
   },
   "file_extension": ".py",
   "mimetype": "text/x-python",
   "name": "python",
   "nbconvert_exporter": "python",
   "pygments_lexer": "ipython2",
   "version": "2.7.12"
  }
 },
 "nbformat": 4,
 "nbformat_minor": 0
}

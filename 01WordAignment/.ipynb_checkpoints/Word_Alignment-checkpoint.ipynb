{
 "cells": [
  {
   "cell_type": "markdown",
   "metadata": {},
   "source": [
    "# World Alignment Home Work"
   ]
  },
  {
   "cell_type": "code",
   "execution_count": 4,
   "metadata": {
    "collapsed": true
   },
   "outputs": [],
   "source": [
    "import numpy as np\n",
    "import pandas as pd"
   ]
  },
  {
   "cell_type": "code",
   "execution_count": 6,
   "metadata": {
    "collapsed": true
   },
   "outputs": [],
   "source": [
    "with open('100.en') as src:\n",
    "    srcsentences = map(lambda x:x.split(),map(lambda y:y.strip(),src.readlines()))\n",
    "with open('100.et') as src:\n",
    "    tgtsentences = map(lambda x:x.split(),map(lambda y:y.strip(),src.readlines()))"
   ]
  },
  {
   "cell_type": "code",
   "execution_count": 8,
   "metadata": {
    "collapsed": true
   },
   "outputs": [],
   "source": [
    "params={}\n",
    "for sentence in srcsentences:\n",
    "    for word in sentence:\n",
    "        params[word]={}"
   ]
  },
  {
   "cell_type": "code",
   "execution_count": 10,
   "metadata": {
    "collapsed": false
   },
   "outputs": [],
   "source": [
    "for i in range (len(srcsentences)):\n",
    "    for tgtword in tgtsentences[i]:\n",
    "        for srcword in srcsentences[i]:\n",
    "            params[srcword][tgtword]=1.0"
   ]
  },
  {
   "cell_type": "code",
   "execution_count": 12,
   "metadata": {
    "collapsed": false
   },
   "outputs": [
    {
     "data": {
      "text/plain": [
       "4196"
      ]
     },
     "execution_count": 12,
     "metadata": {},
     "output_type": "execute_result"
    }
   ],
   "source": []
  },
  {
   "cell_type": "code",
   "execution_count": 1,
   "metadata": {
    "collapsed": false
   },
   "outputs": [],
   "source": [
    "with open('100.en') as src:\n",
    "    srwords = reduce(lambda x,y: x+y,map(lambda x:x.split(),map(lambda y:y.strip(),src.readlines())))\n",
    "with open('100.et') as src:\n",
    "    trgtwords = reduce(lambda x,y: x+y,map(lambda x:x.split(),map(lambda y:y.strip(),src.readlines())))"
   ]
  },
  {
   "cell_type": "code",
   "execution_count": 2,
   "metadata": {
    "collapsed": false
   },
   "outputs": [
    {
     "name": "stdout",
     "output_type": "stream",
     "text": [
      "['secondly', ',', 'the', 'Commission', 'wanted', 'to', 'make', 'it', 'easier', 'for']\n",
      "['teiseks', 'tahtis', 'komisjon', 'nii', 'raamotsuse', 'muudatuste', 'kui', 'ka', 'Euroopa', 'N\\xc3\\xb5ukogu']\n"
     ]
    }
   ],
   "source": [
    "print srwords[0:10]\n",
    "print trgtwords[0:10]"
   ]
  },
  {
   "cell_type": "markdown",
   "metadata": {},
   "source": [
    "### Step 1. Initialization"
   ]
  },
  {
   "cell_type": "code",
   "execution_count": null,
   "metadata": {
    "collapsed": false
   },
   "outputs": [],
   "source": [
    "params={el:{} for el in srwords}"
   ]
  },
  {
   "cell_type": "code",
   "execution_count": null,
   "metadata": {
    "collapsed": false
   },
   "outputs": [],
   "source": [
    "for srcword in srwords:\n",
    "    for trgtword in trgtwords:\n",
    "        params[srcword][trgtword]=1.0"
   ]
  },
  {
   "cell_type": "code",
   "execution_count": null,
   "metadata": {
    "collapsed": false
   },
   "outputs": [],
   "source": [
    "total = sum(map(lambda x:len(params[x].keys()),params.keys()))"
   ]
  }
 ],
 "metadata": {
  "kernelspec": {
   "display_name": "Python [fullfeatured]",
   "language": "python",
   "name": "Python [fullfeatured]"
  },
  "language_info": {
   "codemirror_mode": {
    "name": "ipython",
    "version": 2
   },
   "file_extension": ".py",
   "mimetype": "text/x-python",
   "name": "python",
   "nbconvert_exporter": "python",
   "pygments_lexer": "ipython2",
   "version": "2.7.12"
  }
 },
 "nbformat": 4,
 "nbformat_minor": 0
}

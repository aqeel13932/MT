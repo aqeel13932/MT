{
 "cells": [
  {
   "cell_type": "markdown",
   "metadata": {},
   "source": [
    "# World Alignment Home Work"
   ]
  },
  {
   "cell_type": "code",
   "execution_count": 1,
   "metadata": {
    "collapsed": true
   },
   "outputs": [],
   "source": [
    "from collections import defaultdict\n",
    "import operator"
   ]
  },
  {
   "cell_type": "code",
   "execution_count": 2,
   "metadata": {
    "collapsed": true
   },
   "outputs": [],
   "source": [
    "with open('eu100k.en') as src:\n",
    "    srcsentences = map(lambda x:x.split(),map(lambda y:y.strip(),src.readlines()))\n",
    "with open('eu100k.et') as src:\n",
    "    tgtsentences = map(lambda x:x.split(),map(lambda y:y.strip(),src.readlines()))"
   ]
  },
  {
   "cell_type": "markdown",
   "metadata": {},
   "source": [
    "### Step 1. initialization"
   ]
  },
  {
   "cell_type": "code",
   "execution_count": 3,
   "metadata": {
    "collapsed": true
   },
   "outputs": [],
   "source": [
    "params = defaultdict(lambda : defaultdict(float))\n",
    "for i in range (len(srcsentences)):\n",
    "    for tgtword in tgtsentences[i]:\n",
    "        for srcword in srcsentences[i]:\n",
    "            params[srcword][tgtword]=1.0"
   ]
  },
  {
   "cell_type": "markdown",
   "metadata": {},
   "source": [
    "### Step 2. Expected counts (ali.prob)\n",
    "### followed by \n",
    "### Step 3. Updated Params"
   ]
  },
  {
   "cell_type": "code",
   "execution_count": 4,
   "metadata": {
    "collapsed": false
   },
   "outputs": [
    {
     "name": "stdout",
     "output_type": "stream",
     "text": [
      "iteration: 0\n",
      "iteration: 1\n",
      "iteration: 2\n"
     ]
    }
   ],
   "source": [
    "iterations=3\n",
    "for i in range (iterations):\n",
    "    print 'iteration:',i\n",
    "    #Step 2. Expected Counts\n",
    "    expCounts = defaultdict(lambda : defaultdict(float))\n",
    "    for i in range (len(srcsentences)):\n",
    "        for tgtword in tgtsentences[i]:\n",
    "            srcNormSum =0.0\n",
    "            for srcword in srcsentences[i]:\n",
    "                srcNormSum +=params[srcword][tgtword]\n",
    "            for srcword in srcsentences[i]:\n",
    "                aliPointProb = params[srcword][tgtword]/srcNormSum\n",
    "                expCounts[srcword][tgtword]+=aliPointProb\n",
    "                expCounts[srcword][\"_total\"]+=aliPointProb\n",
    "    #Step 3. Update Params\n",
    "    for srcword in params:\n",
    "        for tgtword in params[srcword]:\n",
    "            params[srcword][tgtword] = expCounts[srcword][tgtword]/expCounts[srcword][\"_total\"]            "
   ]
  },
  {
   "cell_type": "markdown",
   "metadata": {},
   "source": [
    "### Build Dictionary from Source to Target"
   ]
  },
  {
   "cell_type": "code",
   "execution_count": 6,
   "metadata": {
    "collapsed": true
   },
   "outputs": [],
   "source": [
    "with open('entoest.txt','w') as f:\n",
    "    for src in params:\n",
    "        destword = max(params[src].iteritems(), key=operator.itemgetter(1))[0]\n",
    "        f.write('{},{},{}\\n'.format(src,destword,params[src][destword]))"
   ]
  },
  {
   "cell_type": "markdown",
   "metadata": {},
   "source": [
    "### Build Dictionary from Target to Source"
   ]
  },
  {
   "cell_type": "code",
   "execution_count": 9,
   "metadata": {
    "collapsed": true
   },
   "outputs": [],
   "source": [
    "reverse = defaultdict(lambda : defaultdict(str,float))\n",
    "for i in range (len(srcsentences)):\n",
    "    for tgtword in tgtsentences[i]:\n",
    "        for srcword in srcsentences[i]:\n",
    "            if tgtword in reverse:\n",
    "                if reverse[tgtword][1]<params[srcword][tgtword]:\n",
    "                    reverse[tgtword]=(srcword,params[srcword][tgtword])\n",
    "            else:\n",
    "                reverse[tgtword]=(srcword,params[srcword][tgtword])"
   ]
  },
  {
   "cell_type": "code",
   "execution_count": 13,
   "metadata": {
    "collapsed": false
   },
   "outputs": [],
   "source": [
    "with open('esttoen.txt','w') as f:\n",
    "    for src in reverse:\n",
    "        f.write('{},{},{}\\n'.format(src,reverse[src][0],reverse[src][1]))"
   ]
  },
  {
   "cell_type": "markdown",
   "metadata": {},
   "source": [
    "### I do want something more fun but maybe after Bigdata Garage 48 :) ^_^ "
   ]
  }
 ],
 "metadata": {
  "kernelspec": {
   "display_name": "Python [fullfeatured]",
   "language": "python",
   "name": "Python [fullfeatured]"
  },
  "language_info": {
   "codemirror_mode": {
    "name": "ipython",
    "version": 2
   },
   "file_extension": ".py",
   "mimetype": "text/x-python",
   "name": "python",
   "nbconvert_exporter": "python",
   "pygments_lexer": "ipython2",
   "version": "2.7.12"
  }
 },
 "nbformat": 4,
 "nbformat_minor": 0
}

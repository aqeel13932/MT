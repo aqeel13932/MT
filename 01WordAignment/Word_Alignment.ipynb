{
 "cells": [
  {
   "cell_type": "markdown",
   "metadata": {},
   "source": [
    "# World Alignment Home Work"
   ]
  },
  {
   "cell_type": "code",
   "execution_count": 1,
   "metadata": {
    "collapsed": true
   },
   "outputs": [],
   "source": [
    "import numpy as np\n",
    "import pandas as pd"
   ]
  },
  {
   "cell_type": "code",
   "execution_count": 2,
   "metadata": {
    "collapsed": true
   },
   "outputs": [],
   "source": [
    "with open('colors.eng') as src:\n",
    "    srwords = reduce(lambda x,y: x+y,map(lambda x:x.split(),map(lambda y:y.strip(),src.readlines())))\n",
    "with open('colors.est') as src:\n",
    "    trgtwords = reduce(lambda x,y: x+y,map(lambda x:x.split(),map(lambda y:y.strip(),src.readlines())))"
   ]
  },
  {
   "cell_type": "code",
   "execution_count": 3,
   "metadata": {
    "collapsed": false
   },
   "outputs": [
    {
     "name": "stdout",
     "output_type": "stream",
     "text": [
      "['\"', 'roses', 'are', 'red', ',', '\"', 'violets', 'are', 'blue', ',']\n",
      "['roosid', 'on', 'punased', ',', 'kannikesed', 'on', 'sinised', '.', 'h\\xc3\\xa4sti', ',']\n"
     ]
    }
   ],
   "source": [
    "print srwords[0:10]\n",
    "print trgtwords[0:10]"
   ]
  },
  {
   "cell_type": "markdown",
   "metadata": {},
   "source": [
    "### Step 1. Initialization"
   ]
  },
  {
   "cell_type": "code",
   "execution_count": 4,
   "metadata": {
    "collapsed": false
   },
   "outputs": [],
   "source": [
    "params={el:{} for el in srwords}"
   ]
  },
  {
   "cell_type": "code",
   "execution_count": 5,
   "metadata": {
    "collapsed": false
   },
   "outputs": [],
   "source": [
    "for srcword in srwords:\n",
    "    for trgtword in trgtwords:\n",
    "        params[srcword][trgtword]=1.0"
   ]
  },
  {
   "cell_type": "code",
   "execution_count": 7,
   "metadata": {
    "collapsed": false
   },
   "outputs": [],
   "source": [
    "total = sum(map(lambda x:len(params[x].keys()),params.keys()))"
   ]
  }
 ],
 "metadata": {
  "kernelspec": {
   "display_name": "Python [fullfeatured]",
   "language": "python",
   "name": "Python [fullfeatured]"
  },
  "language_info": {
   "codemirror_mode": {
    "name": "ipython",
    "version": 2
   },
   "file_extension": ".py",
   "mimetype": "text/x-python",
   "name": "python",
   "nbconvert_exporter": "python",
   "pygments_lexer": "ipython2",
   "version": "2.7.12"
  }
 },
 "nbformat": 4,
 "nbformat_minor": 0
}

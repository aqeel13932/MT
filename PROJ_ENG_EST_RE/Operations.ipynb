{
 "cells": [
  {
   "cell_type": "code",
   "execution_count": 77,
   "metadata": {
    "collapsed": false
   },
   "outputs": [],
   "source": [
    "import nltk\n",
    "import networkx\n",
    "from time import time\n",
    "import pattern"
   ]
  },
  {
   "cell_type": "code",
   "execution_count": 18,
   "metadata": {
    "collapsed": false
   },
   "outputs": [],
   "source": [
    "def CrossesCount(line):\n",
    "    output = []\n",
    "    largest=-10\n",
    "    counter =0\n",
    "    for x in [pair.split('-') for pair in line.strip().split()]:\n",
    "        res = (int(x[0]),int(x[1]))\n",
    "        output.append(res)\n",
    "        if (res[0]>=largest):\n",
    "            largest=res[0]\n",
    "        else:\n",
    "            counter+=1\n",
    "    return counter"
   ]
  },
  {
   "cell_type": "code",
   "execution_count": 19,
   "metadata": {
    "collapsed": true
   },
   "outputs": [],
   "source": [
    "lined = open('forward.align')\n",
    "source = open('tc-tok-all.en')"
   ]
  },
  {
   "cell_type": "code",
   "execution_count": 20,
   "metadata": {
    "collapsed": false,
    "scrolled": true
   },
   "outputs": [
    {
     "name": "stdout",
     "output_type": "stream",
     "text": [
      "0\n",
      "100000\n",
      "200000\n",
      "300000\n",
      "400000\n",
      "500000\n",
      "600000\n",
      "700000\n",
      "800000\n",
      "900000\n",
      "1000000\n",
      "1100000\n",
      "1200000\n",
      "1300000\n",
      "1400000\n",
      "1500000\n",
      "1600000\n",
      "1700000\n",
      "1800000\n",
      "1900000\n",
      "2000000\n",
      "2100000\n",
      "2200000\n",
      "2300000\n",
      "2400000\n",
      "2500000\n",
      "2600000\n",
      "2700000\n",
      "2800000\n",
      "2900000\n",
      "3000000\n",
      "3100000\n",
      "3200000\n",
      "3300000\n",
      "3400000\n",
      "3500000\n",
      "3600000\n",
      "3700000\n",
      "3800000\n",
      "3900000\n",
      "4000000\n",
      "4100000\n",
      "4200000\n",
      "4300000\n",
      "4400000\n",
      "4500000\n",
      "4600000\n",
      "4700000\n",
      "4800000\n",
      "4900000\n",
      "5000000\n",
      "47.7005870342\n"
     ]
    }
   ],
   "source": [
    "Total=0\n",
    "Start = time()\n",
    "for i in range(5015000):\n",
    "    if i%100000==0:\n",
    "        print(i)\n",
    "    l = lined.readline()\n",
    "    Total+= CrossesCount(l)\n",
    "print(time()-Start)"
   ]
  },
  {
   "cell_type": "code",
   "execution_count": 21,
   "metadata": {
    "collapsed": false
   },
   "outputs": [
    {
     "data": {
      "text/plain": [
       "4828668"
      ]
     },
     "execution_count": 21,
     "metadata": {},
     "output_type": "execute_result"
    }
   ],
   "source": [
    "Total"
   ]
  },
  {
   "cell_type": "code",
   "execution_count": 22,
   "metadata": {
    "collapsed": true
   },
   "outputs": [],
   "source": [
    "from pattern.en import parse,pprint,parsetree"
   ]
  },
  {
   "cell_type": "code",
   "execution_count": 10,
   "metadata": {
    "collapsed": false
   },
   "outputs": [],
   "source": [
    "sent = parsetree('clear sky',relations=True)"
   ]
  },
  {
   "cell_type": "code",
   "execution_count": 78,
   "metadata": {
    "collapsed": true
   },
   "outputs": [],
   "source": [
    "class Rule:\n",
    "    def __init__(features,action):\n",
    "        self.me=features[0]\n",
    "        self.children=features[:1]\n",
    "        self.action = action"
   ]
  },
  {
   "cell_type": "code",
   "execution_count": 138,
   "metadata": {
    "collapsed": true
   },
   "outputs": [],
   "source": [
    "class Node:\n",
    "    def __init__(self,tag,index=-1,text=None,parent=None):\n",
    "        self.Text = text\n",
    "        self.Tag= tag\n",
    "        self.Parent = parent\n",
    "        self.Index = index\n",
    "        self.Textual= index>-1\n",
    "        self.Children=[]\n",
    "    def AddChildren(self,child):\n",
    "        child.parent= self\n",
    "        self.Children.append(child)\n",
    "    def __str__(self):\n",
    "        sentence=''\n",
    "        for i in self.Children:\n",
    "            if i.Textual:\n",
    "                sentence+= i.Text+' '\n",
    "            else:\n",
    "                for t in i.Children:\n",
    "                    sentence+= t.Text+' '\n",
    "        return sentence[:-1]"
   ]
  },
  {
   "cell_type": "code",
   "execution_count": 139,
   "metadata": {
    "collapsed": false
   },
   "outputs": [],
   "source": [
    "def ExtractRules(txt):\n",
    "    txt = parsetree(txt,relations=True)\n",
    "    txt = [s for s in txt][0].constituents()\n",
    "    ls = []\n",
    "    wordscounter =0\n",
    "    parent = Node(tag='sentence')\n",
    "    for r in txt:\n",
    "        if isinstance(r,pattern.text.tree.Chunk):\n",
    "            ch = Node(tag=r.type)\n",
    "            for w in r.words:\n",
    "                wn = Node(tag=w.type,text=w.string,index=wordscounter)\n",
    "                wordscounter+=1\n",
    "                ch.AddChildren(wn)\n",
    "            parent.AddChildren(ch)\n",
    "        elif isinstance(r,pattern.text.tree.Word):\n",
    "            wn = Node(tag=r.type,text=r.string,index=wordscounter)\n",
    "            wordscounter+=1\n",
    "            parent.AddChildren(wn)\n",
    "    return parent"
   ]
  },
  {
   "cell_type": "code",
   "execution_count": 178,
   "metadata": {
    "collapsed": false,
    "scrolled": false
   },
   "outputs": [
    {
     "name": "stdout",
     "output_type": "stream",
     "text": [
      "the wound was serious . so ?\n",
      "the wound was serious .\n"
     ]
    }
   ],
   "source": [
    "#txt = source.readline()\n",
    "txt='the wound was serious . so ?'\n",
    "print(txt)\n",
    "print(ExtractRules(txt))\n"
   ]
  },
  {
   "cell_type": "code",
   "execution_count": 180,
   "metadata": {
    "collapsed": false
   },
   "outputs": [
    {
     "name": "stdout",
     "output_type": "stream",
     "text": [
      "the wound was serious . so ?\n",
      "[Chunk('the wound/NP-SBJ-1'), Chunk('was/VP-1'), Chunk('serious/ADJP'), Word(u'./.')]\n",
      "(u'NP', [(u'the', u'DT'), (u'wound', u'NN')])\n",
      "(u'VP', [(u'was', u'VBD')])\n",
      "(u'ADJP', [(u'serious', u'JJ')])\n",
      "[Chunk('so/ADVP'), Word(u'?/.')]\n",
      "(u'ADVP', [(u'so', u'RB')])\n"
     ]
    }
   ],
   "source": [
    "#txt = source.readline()\n",
    "txt = 'the wound was serious . so ?'\n",
    "print(txt)\n",
    "sent = parsetree(txt,relations=True)\n",
    "for s in sent:\n",
    "    print(s.constituents())\n",
    "    for chunk in s.chunks:\n",
    "        print(chunk.type,[(w.string,w.type) for w in chunk.words])"
   ]
  },
  {
   "cell_type": "code",
   "execution_count": 181,
   "metadata": {
    "collapsed": true
   },
   "outputs": [],
   "source": [
    "sent = parsetree('I saw a man easily',relations=True)"
   ]
  },
  {
   "cell_type": "code",
   "execution_count": 183,
   "metadata": {
    "collapsed": false
   },
   "outputs": [],
   "source": [
    "sent= [s for s in sent][0].constituents()"
   ]
  },
  {
   "cell_type": "code",
   "execution_count": 184,
   "metadata": {
    "collapsed": false
   },
   "outputs": [
    {
     "data": {
      "text/plain": [
       "[Chunk('I/NP-SBJ-1'),\n",
       " Chunk('saw/VP-1'),\n",
       " Chunk('a man/NP-OBJ-1'),\n",
       " Chunk('easily/ADVP')]"
      ]
     },
     "execution_count": 184,
     "metadata": {},
     "output_type": "execute_result"
    }
   ],
   "source": [
    "sent"
   ]
  }
 ],
 "metadata": {
  "anaconda-cloud": {},
  "kernelspec": {
   "display_name": "Python [conda env:py2]",
   "language": "python",
   "name": "conda-env-py2-py"
  },
  "language_info": {
   "codemirror_mode": {
    "name": "ipython",
    "version": 2
   },
   "file_extension": ".py",
   "mimetype": "text/x-python",
   "name": "python",
   "nbconvert_exporter": "python",
   "pygments_lexer": "ipython2",
   "version": "2.7.12"
  }
 },
 "nbformat": 4,
 "nbformat_minor": 2
}

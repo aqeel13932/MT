{
 "cells": [
  {
   "cell_type": "code",
   "execution_count": 17,
   "metadata": {
    "collapsed": false
   },
   "outputs": [],
   "source": [
    "import nltk\n",
    "import networkx\n",
    "from time import time"
   ]
  },
  {
   "cell_type": "code",
   "execution_count": 18,
   "metadata": {
    "collapsed": false
   },
   "outputs": [],
   "source": [
    "def CrossesCount(line):\n",
    "    output = []\n",
    "    largest=-10\n",
    "    counter =0\n",
    "    for x in [pair.split('-') for pair in line.strip().split()]:\n",
    "        res = (int(x[0]),int(x[1]))\n",
    "        output.append(res)\n",
    "        if (res[0]>=largest):\n",
    "            largest=res[0]\n",
    "        else:\n",
    "            counter+=1\n",
    "    return counter"
   ]
  },
  {
   "cell_type": "code",
   "execution_count": 19,
   "metadata": {
    "collapsed": true
   },
   "outputs": [],
   "source": [
    "lined = open('forward.align')\n",
    "source = open('tc-tok-all.en')"
   ]
  },
  {
   "cell_type": "code",
   "execution_count": 20,
   "metadata": {
    "collapsed": false,
    "scrolled": true
   },
   "outputs": [
    {
     "name": "stdout",
     "output_type": "stream",
     "text": [
      "0\n",
      "100000\n",
      "200000\n",
      "300000\n",
      "400000\n",
      "500000\n",
      "600000\n",
      "700000\n",
      "800000\n",
      "900000\n",
      "1000000\n",
      "1100000\n",
      "1200000\n",
      "1300000\n",
      "1400000\n",
      "1500000\n",
      "1600000\n",
      "1700000\n",
      "1800000\n",
      "1900000\n",
      "2000000\n",
      "2100000\n",
      "2200000\n",
      "2300000\n",
      "2400000\n",
      "2500000\n",
      "2600000\n",
      "2700000\n",
      "2800000\n",
      "2900000\n",
      "3000000\n",
      "3100000\n",
      "3200000\n",
      "3300000\n",
      "3400000\n",
      "3500000\n",
      "3600000\n",
      "3700000\n",
      "3800000\n",
      "3900000\n",
      "4000000\n",
      "4100000\n",
      "4200000\n",
      "4300000\n",
      "4400000\n",
      "4500000\n",
      "4600000\n",
      "4700000\n",
      "4800000\n",
      "4900000\n",
      "5000000\n",
      "47.7005870342\n"
     ]
    }
   ],
   "source": [
    "Total=0\n",
    "Start = time()\n",
    "for i in range(5015000):\n",
    "    if i%100000==0:\n",
    "        print(i)\n",
    "    l = lined.readline()\n",
    "    Total+= CrossesCount(l)\n",
    "print(time()-Start)"
   ]
  },
  {
   "cell_type": "code",
   "execution_count": 21,
   "metadata": {
    "collapsed": false
   },
   "outputs": [
    {
     "data": {
      "text/plain": [
       "4828668"
      ]
     },
     "execution_count": 21,
     "metadata": {},
     "output_type": "execute_result"
    }
   ],
   "source": [
    "Total"
   ]
  },
  {
   "cell_type": "code",
   "execution_count": 22,
   "metadata": {
    "collapsed": true
   },
   "outputs": [],
   "source": [
    "from pattern.en import parse,pprint,parsetree"
   ]
  },
  {
   "cell_type": "code",
   "execution_count": 10,
   "metadata": {
    "collapsed": false
   },
   "outputs": [],
   "source": [
    "sent = parsetree('clear sky',relations=True)"
   ]
  },
  {
   "cell_type": "code",
   "execution_count": null,
   "metadata": {
    "collapsed": true
   },
   "outputs": [],
   "source": [
    "class Rule:\n",
    "    def __init__(features,action):\n",
    "        self.me=features[0]\n",
    "        self.children=features[:1]\n",
    "        self.action = action\n",
    "    def __str__(self):\n",
    "        return (self)"
   ]
  },
  {
   "cell_type": "code",
   "execution_count": 27,
   "metadata": {
    "collapsed": true
   },
   "outputs": [],
   "source": [
    "class Node:\n",
    "    def __init__(tag,index=-1,text=None,parent=None):\n",
    "        self.Text = text\n",
    "        self.Tag= tag\n",
    "        self.Parent = parent\n",
    "        self.Index = index\n",
    "        self.childrens=None\n",
    "        self.Textual= index>-1\n",
    "        self.Children=[]\n",
    "    def AddChildren(self,child):\n",
    "        child.parent= self\n",
    "        self.Children.append(child)"
   ]
  },
  {
   "cell_type": "code",
   "execution_count": null,
   "metadata": {
    "collapsed": true
   },
   "outputs": [],
   "source": [
    "def ExtractRules(txt):\n",
    "    "
   ]
  },
  {
   "cell_type": "code",
   "execution_count": 23,
   "metadata": {
    "collapsed": false,
    "scrolled": false
   },
   "outputs": [
    {
     "name": "stdout",
     "output_type": "stream",
     "text": [
      "{'SBJ': {1: Chunk('the first cases/NP-SBJ-1')}, 'VP': {1: Chunk('appeared/VP-1')}, 'OBJ': {}}\n",
      "[Chunk('the first cases/NP-SBJ-1'), Chunk('appeared/VP-1'), Chunk('in/PP'), Chunk('early summer/NP'), Word(u'./.')]\n",
      "(u'NP', [(u'the', u'DT'), (u'first', u'JJ'), (u'cases', u'NNS')])\n",
      "(u'VP', [(u'appeared', u'VBD')])\n",
      "(u'PP', [(u'in', u'IN')])\n",
      "(u'NP', [(u'early', u'JJ'), (u'summer', u'NN')])\n",
      "{'SBJ': {1: Chunk('months the virus/NP-SBJ-1')}, 'VP': {1: Chunk('tried to destroy/VP-1')}, 'OBJ': {1: Chunk('the population/NP-OBJ-1')}}\n",
      "[Chunk('2/PP'), Word(u'00/CD'), Word(u':/:'), Word(u'00/CD'), Word(u':/:'), Word(u'55,740/SYM'), Word(u'-/:'), Word(u'-/:'), Chunk('00/NP'), Word(u':/:'), Word(u'00/CD'), Word(u':/:'), Word(u'58,410/CD'), Chunk('For/PP'), Chunk('months the virus/NP-SBJ-1'), Chunk('tried to destroy/VP-1'), Chunk('the population/NP-OBJ-1'), Word(u'./.')]\n",
      "(u'PP', [(u'2', u'IN')])\n",
      "(u'NP', [(u'00', u'NN')])\n",
      "(u'PP', [(u'For', u'IN')])\n",
      "(u'NP', [(u'months', u'NNS'), (u'the', u'DT'), (u'virus', u'NN')])\n",
      "(u'VP', [(u'tried', u'VBD'), (u'to', u'TO'), (u'destroy', u'VB')])\n",
      "(u'NP', [(u'the', u'DT'), (u'population', u'NN')])\n"
     ]
    }
   ],
   "source": [
    "txt = source.readline()\n",
    "sent=parsetree(txt,relations=True)\n",
    "for s in sent:\n",
    "    print(s.relations)\n",
    "    print(s.constituents())\n",
    "    for chunk in s.chunks:\n",
    "        print(chunk.type,[(w.string,w.type) for w in chunk.words])"
   ]
  }
 ],
 "metadata": {
  "anaconda-cloud": {},
  "kernelspec": {
   "display_name": "Python [conda env:py2]",
   "language": "python",
   "name": "conda-env-py2-py"
  },
  "language_info": {
   "codemirror_mode": {
    "name": "ipython",
    "version": 2
   },
   "file_extension": ".py",
   "mimetype": "text/x-python",
   "name": "python",
   "nbconvert_exporter": "python",
   "pygments_lexer": "ipython2",
   "version": "2.7.12"
  }
 },
 "nbformat": 4,
 "nbformat_minor": 2
}
